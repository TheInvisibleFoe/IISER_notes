{
 "cells": [
  {
   "cell_type": "markdown",
   "id": "a412fdee",
   "metadata": {},
   "source": [
    "# Worksheet 2 - Root Finding methods"
   ]
  },
  {
   "cell_type": "code",
   "execution_count": 2,
   "id": "da8a1bba",
   "metadata": {},
   "outputs": [],
   "source": [
    "# required imports\n",
    "import numpy as np\n",
    "import matplotlib.pyplot as plt"
   ]
  },
  {
   "cell_type": "markdown",
   "id": "73024886",
   "metadata": {},
   "source": [
    "# Q1"
   ]
  },
  {
   "cell_type": "code",
   "execution_count": 23,
   "id": "d284938e",
   "metadata": {},
   "outputs": [],
   "source": [
    "def f(x):\n",
    "    y = (1/3)*np.tan(x)\n",
    "#     y = (x-2)\n",
    "    return y\n",
    "    "
   ]
  },
  {
   "cell_type": "code",
   "execution_count": 24,
   "id": "89eb0e2e",
   "metadata": {},
   "outputs": [],
   "source": [
    "def bisection(a,b,tol,maxiter):\n",
    "    err = f((a+b)/2)\n",
    "    count = 0\n",
    "    if abs(f(a))<=tol:\n",
    "        return a\n",
    "    elif abs(f(b))<=tol:\n",
    "        return b\n",
    "    if f(a)*f(b)>0:\n",
    "        print(\"Error\")\n",
    "        return None\n",
    "    while err >tol and count<maxiter:\n",
    "        c = (a+b)/2\n",
    "        if f(a)*f(c)<0:\n",
    "            b=c\n",
    "        elif f(c)*f(b)<0:\n",
    "            a=c\n",
    "        elif abs(f(c))<=0:\n",
    "            return c\n",
    "        count+=1\n",
    "        err = f(c)\n",
    "    return c"
   ]
  },
  {
   "cell_type": "code",
   "execution_count": 25,
   "id": "eef4c4fd",
   "metadata": {},
   "outputs": [
    {
     "data": {
      "text/plain": [
       "1.7625"
      ]
     },
     "execution_count": 25,
     "metadata": {},
     "output_type": "execute_result"
    }
   ],
   "source": [
    "bisection(0.1,2,0.0001,1000)"
   ]
  },
  {
   "cell_type": "code",
   "execution_count": null,
   "id": "3af05cbe",
   "metadata": {},
   "outputs": [],
   "source": []
  },
  {
   "cell_type": "code",
   "execution_count": null,
   "id": "30343280",
   "metadata": {},
   "outputs": [],
   "source": []
  }
 ],
 "metadata": {
  "kernelspec": {
   "display_name": "Python 3 (ipykernel)",
   "language": "python",
   "name": "python3"
  },
  "language_info": {
   "codemirror_mode": {
    "name": "ipython",
    "version": 3
   },
   "file_extension": ".py",
   "mimetype": "text/x-python",
   "name": "python",
   "nbconvert_exporter": "python",
   "pygments_lexer": "ipython3",
   "version": "3.10.12"
  }
 },
 "nbformat": 4,
 "nbformat_minor": 5
}
