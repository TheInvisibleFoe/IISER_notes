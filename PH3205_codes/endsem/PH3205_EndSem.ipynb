{
 "cells": [
  {
   "cell_type": "markdown",
   "id": "01e0b4bd",
   "metadata": {},
   "source": [
    "# Endsem Exam\n",
    "\n",
    "Name: Sabarno Saha\n",
    "\n",
    "Roll: 22MS037"
   ]
  },
  {
   "cell_type": "markdown",
   "id": "669e4f9e",
   "metadata": {},
   "source": [
    "# Question 3: Planar Walk and its Statistics\n",
    "A particle starts at the origin (0, 0) on a frictionless horizontal table. Every $\\Delta t = 10$ ms it\n",
    "executes a single free flight (step) of fixed length $l = 0.05$ mm in a direction $\\theta$ that is chosen\n",
    "independently and uniformly from $[0, 2\\pi)$. After N steps the clock time is $T = N \\Delta t$ and the\n",
    "Cartesian coordinates are\n",
    "$$x_N = \\sum_{j = 1}^N l \\cos(\\theta_j) \\qquad \\qquad\\qquad\\qquad y_N = \\sum_{j = 1}^N l \\sin(\\theta_j)$$\n",
    "\n",
    "For all numerical parts use $N = 200$ steps ($T = 2.0$ s) and $M = 10^5$ independent trajectories."
   ]
  },
  {
   "cell_type": "markdown",
   "id": "3dc4fdc1",
   "metadata": {},
   "source": [
    "## Analytical Derivation of first and second moments\n",
    "\n",
    "Show that $\\langle x_N \\rangle = \\langle y_N \\rangle = 0 $\n",
    "\n",
    "Show that $\\langle x_N^2 \\rangle = \\langle y_N^2 \\rangle = \\frac{N l^2}{2} $"
   ]
  },
  {
   "cell_type": "code",
   "execution_count": 4,
   "id": "ade0b677",
   "metadata": {},
   "outputs": [],
   "source": [
    "\n",
    "from scipy import integrate\n",
    "import numpy as np\n"
   ]
  },
  {
   "cell_type": "code",
   "execution_count": 10,
   "id": "52cb3165",
   "metadata": {},
   "outputs": [],
   "source": [
    "xval = np.linspace(0, 2*np.pi, 10000)\n",
    "yval = np.cos(xval)**2"
   ]
  },
  {
   "cell_type": "code",
   "execution_count": 11,
   "id": "0d5b9e23",
   "metadata": {},
   "outputs": [],
   "source": [
    "val = integrate.simpson(yval,xval)"
   ]
  },
  {
   "cell_type": "code",
   "execution_count": 12,
   "id": "6f99675e",
   "metadata": {},
   "outputs": [
    {
     "data": {
      "text/plain": [
       "3.141592653548439"
      ]
     },
     "execution_count": 12,
     "metadata": {},
     "output_type": "execute_result"
    }
   ],
   "source": [
    "val"
   ]
  },
  {
   "cell_type": "code",
   "execution_count": null,
   "id": "c214fc55",
   "metadata": {},
   "outputs": [],
   "source": []
  }
 ],
 "metadata": {
  "kernelspec": {
   "display_name": "Python 3 (ipykernel)",
   "language": "python",
   "name": "python3"
  },
  "language_info": {
   "codemirror_mode": {
    "name": "ipython",
    "version": 3
   },
   "file_extension": ".py",
   "mimetype": "text/x-python",
   "name": "python",
   "nbconvert_exporter": "python",
   "pygments_lexer": "ipython3",
   "version": "3.10.12"
  }
 },
 "nbformat": 4,
 "nbformat_minor": 5
}
