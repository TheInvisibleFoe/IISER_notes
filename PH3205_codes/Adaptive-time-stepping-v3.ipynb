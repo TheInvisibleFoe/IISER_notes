{
 "cells": [
  {
   "cell_type": "markdown",
   "id": "9c27946c-5882-4212-83ea-9826210dda7f",
   "metadata": {},
   "source": [
    "# Adaptive time stepping"
   ]
  },
  {
   "cell_type": "code",
   "execution_count": 166,
   "id": "a6e9321a-0cd4-4f30-b6f3-513946a56566",
   "metadata": {},
   "outputs": [],
   "source": [
    "# Load important libraries\n",
    "import numpy as np\n",
    "import matplotlib.pyplot as plt"
   ]
  },
  {
   "cell_type": "markdown",
   "id": "4946c6e6-df34-4372-9030-ca3fb14c0880",
   "metadata": {},
   "source": [
    "### Basic RK4\n",
    "\n",
    "We implement simple RK4 and its caller function."
   ]
  },
  {
   "cell_type": "code",
   "execution_count": 167,
   "id": "7b528ae8-5e4e-485a-bf7f-54462d35916c",
   "metadata": {},
   "outputs": [],
   "source": [
    "# Basic Runge Kutta 4\n",
    "def rk4(fn, x, y, h):\n",
    "    k1 = h*fn(x, y)\n",
    "    k2 = h*fn(x+h/2, y+k1/2)\n",
    "    k3 = h*fn(x+h/2, y+k2/2)\n",
    "    k4 = h*fn(x+h, y+k3)\n",
    "    return y + (k1+2*k2+2*k3+k4)/6\n",
    "\n",
    "# A caller function\n",
    "def caller(my_method, fn, y_ini, x0, xT, h):\n",
    "    # generate x values from x0 to xT \n",
    "    xs = np.arange(x0, xT, h)\n",
    "\n",
    "    # calculate the number of steps\n",
    "    N = len(xs)\n",
    "    \n",
    "    # initialize y\n",
    "    y = y_ini\n",
    "    \n",
    "    # initialize storage to keep y values\n",
    "    ys = np.zeros((N, len(y_ini)))\n",
    "    \n",
    "    # for each i\n",
    "    for i in range(N):\n",
    "        ys[i,:] = y              # store y\n",
    "        x = xs[i]                # get x\n",
    "        y = my_method(fn,x,y,h)  # update y\n",
    "    \n",
    "    # return all y\n",
    "    return ys\n"
   ]
  },
  {
   "cell_type": "markdown",
   "id": "0baee32f-34b5-4793-b3ec-47f88fcc9159",
   "metadata": {},
   "source": [
    "### Apply on a simple ODE whose solution has a rapid change and a flat profile\n",
    "\n",
    "The ODE function is $$ \\frac{dy}{dx} = f(x,y) = -y $$"
   ]
  },
  {
   "cell_type": "code",
   "execution_count": 168,
   "id": "146ab68a-2af0-484f-87b0-dbf45f383e1d",
   "metadata": {},
   "outputs": [],
   "source": [
    "# for dy/dx = f(x,y)\n",
    "# define f(x,y)\n",
    "def f(x, y): \n",
    "    return -y\n",
    "\n",
    "# Step size h\n",
    "h = 0.2\n",
    "\n",
    "# Time span \n",
    "x0 = 0.0\n",
    "xT = 10.0\n",
    "\n",
    "# Generate x values (for plotting and comparison)\n",
    "xs = np.arange(x0, xT, h)\n",
    "N = len(xs)\n",
    "\n",
    "# Initialize y\n",
    "y_ini = np.asarray([1.0])\n",
    "\n",
    "# Final call: returns y values\n",
    "ysrk4 = caller(rk4, f, y_ini, x0, xT, h)"
   ]
  },
  {
   "cell_type": "markdown",
   "id": "24e5ed21-ed5b-4e19-93ea-fb2f5835530c",
   "metadata": {},
   "source": [
    "### Plot the solution and also the error."
   ]
  },
  {
   "cell_type": "code",
   "execution_count": 169,
   "id": "89e9c90e-3687-4f13-97f8-806a63b6cfcb",
   "metadata": {},
   "outputs": [
    {
     "data": {
      "text/plain": [
       "<matplotlib.legend.Legend at 0x7fa8cb7328d0>"
      ]
     },
     "execution_count": 169,
     "metadata": {},
     "output_type": "execute_result"
    },
    {
     "data": {
      "image/png": "[encoded data removed]",
      "text/plain": [
       "<Figure size 640x480 with 2 Axes>"
      ]
     },
     "metadata": {},
     "output_type": "display_data"
    }
   ],
   "source": [
    "# Finely sampled solution for drawing a line\n",
    "xfine = np.arange(x0, xT, h/10)\n",
    "yfine = np.exp(-xfine)\n",
    "\n",
    "# Also the exact solution\n",
    "yexact = np.exp(-xs)\n",
    "\n",
    "# Plot using subplots\n",
    "plt.subplot(2,1,1)\n",
    "plt.plot(xfine, yfine, 'k-',linewidth=0.5,label='Exact')\n",
    "plt.plot(xs, ysrk4,'bo',markersize=2,label='RK4')\n",
    "plt.legend()\n",
    "plt.subplot(2,1,2)\n",
    "yerror = [ysrk4[i][0] - yexact[i] for i in range(len(yexact))]\n",
    "plt.plot(xs, yerror,'bo',markersize=2,label='Error')\n",
    "plt.legend()"
   ]
  },
  {
   "cell_type": "markdown",
   "id": "6d4e3d5e-2c8f-4963-8132-9acf9adf07a2",
   "metadata": {},
   "source": [
    "## Butcher tableau and RK methods\n",
    "\n",
    "The Butcher tableau for a general $ s $-stage Runge-Kutta method is written as:\n",
    "\n",
    "$$\n",
    "\\begin{array}{c|c}\n",
    "a & B \\\\\n",
    "\\hline\n",
    " & c^T\n",
    "\\end{array}\n",
    "$$\n",
    "\n",
    "where:\n",
    "+ $ a = (a_1, a_2, \\dots, a_s) $ is the vector of node values (stage times).\n",
    "+ $ B = (b_{ij}) $ is an $ s \\times s $ matrix of coefficients that define the intermediate steps,\n",
    "+ $ c = (c_1, c_2, \\dots, c_s) $ is the weight vector,\n",
    "\n",
    "\n",
    "\n",
    "### Summation Formulation\n",
    "\n",
    "A general Runge-Kutta method computes the solution at $ t_{n+1} $ using intermediate stages:\n",
    "\n",
    "$$\n",
    "y_{n+1} = y_n + h \\sum_{i=1}^{s} c_i k_i\n",
    "$$\n",
    "\n",
    "where the stage values $ k_i $ are computed as:\n",
    "\n",
    "$$\n",
    "k_i = f \\left( t_n + a_i h, y_n + h \\sum_{j=1}^{s} b_{ij} k_j \\right), \\quad i = 1, 2, \\dots, s\n",
    "$$\n",
    "\n",
    "Here:\n",
    "+ $ h $ is the step size,\n",
    "+ $ f(t, y) $ represents the derivative function $ \\frac{dy}{dt} $,\n",
    "+ $ k_i $ are the intermediate function evaluations.\n"
   ]
  },
  {
   "cell_type": "code",
   "execution_count": 170,
   "id": "8f830639-dd9c-4890-901e-b27d0495421e",
   "metadata": {},
   "outputs": [],
   "source": [
    "# Dormand-Prince in matrix form\n",
    "a = [0.2, 0.3, 0.8, 8/9, 1.0, 1.0]\n",
    "b = [\n",
    "    [1/5, 0, 0, 0, 0, 0],\n",
    "    [3/40, 9/40, 0, 0, 0, 0],\n",
    "    [44/45, -56/15, 32/9, 0, 0, 0],\n",
    "    [19372/6561, -25360/2187, 64448/6561, -212/729, 0, 0],\n",
    "    [9017/3168, -355/33, 46732/5247, 49/176, -5103/18656, 0],\n",
    "    [35/384, 0, 500/1113, 125/192, -2187/6784, 11/84]\n",
    "]\n",
    "c = [35/384, 0, 500/1113, 125/192, -2187/6784, 11/84, 0]\n",
    "\n",
    "# Dormand-Prince\n",
    "a2 = 1/5;  b21 = 1/5;\n",
    "a3 = 3/10; b31 = 3/40;       b32 = 9/40;\n",
    "a4 = 4/5;  b41 = 44/45;      b42 = -56/15;      b43 = 32/9;\n",
    "a5 = 8/9;  b51 = 19372/6561; b52 = -25360/2187; b53 = 64448/6561; b54 =-212/729;\n",
    "a6 = 1;    b61 = 9017/3168;  b62 = -355/33;     b63 = 46732/5247; b64 = 49/176;  b65 = -5103/18656;\n",
    "a7 = 1;    b71 = 35/384;     b72 = 0;           b73 = 500/1113;   b74 = 125/192; b75 = -2187/6784;  b76 = 11/84;\n",
    "\n",
    "c1 = 35/384; c2 = 0; c3 = 500/1113; c4 = 125/192; c5=-2187/6784; c6 = 11/84; c7 = 0;\n",
    "c1s = 5179/57600; c2s = 0; c3s = 7571/16695; c4s = 393/640; c5s = -92097/339200; c6s = 187/2100; c7s = 1/40;"
   ]
  },
  {
   "cell_type": "markdown",
   "id": "b5c47618-3c3e-43fc-8ea7-7c56f61b25c3",
   "metadata": {},
   "source": [
    "### An implementation of 4th and 5th order embedded RK methods using Butcher tableau\n"
   ]
  },
  {
   "cell_type": "code",
   "execution_count": 171,
   "id": "6162e527-6435-4fa7-a47c-c91b986ab57c",
   "metadata": {},
   "outputs": [],
   "source": [
    "# Embedded Runge-Kutta formulas\n",
    "def erk54(f, x, y, h):\n",
    "    k1 = h*f(x, y)\n",
    "    k2 = h*f(x + a2*h, y + b21*k1)\n",
    "    k3 = h*f(x + a3*h, y + b31*k1 + b32*k2)\n",
    "    k4 = h*f(x + a4*h, y + b41*k1 + b42*k2 + b43*k3)\n",
    "    k5 = h*f(x + a5*h, y + b51*k1 + b52*k2 + b53*k3 + b54*k4)\n",
    "    k6 = h*f(x + a6*h, y + b61*k1 + b62*k2 + b63*k3 + b64*k4 + b65*k5)\n",
    "    y5 = y + c1*k1 + c2*k2 + c3*k3 + c4*k4 + c5*k5 + c6*k6       \n",
    "    k7 = h*f(x + a7*h, y5)\n",
    "    y4 = y + c1s*k1 + c2s*k2 + c3s*k3 + c4s*k4 + c5s*k5 + c6s*k6 + c7s*k7\n",
    "    return y5, y4\n",
    "\n",
    "# A caller function\n",
    "def caller5(my_method, fn, y_ini, x0, xT, h):\n",
    "    # x values uniformly sampled\n",
    "    xs = np.arange(x0, xT, h)\n",
    "    # number of points\n",
    "    N = len(xs)\n",
    "    # Initialize\n",
    "    y = np.asarray(y_ini)\n",
    "    # Initialize storage\n",
    "    ys = np.zeros((N, len(y_ini)))\n",
    "    # Loop over all xs\n",
    "    for i in range(N):\n",
    "        # store and ...\n",
    "        ys[i,:] = y\n",
    "        x = xs[i]\n",
    "        # ... update\n",
    "        y, y4 = my_method(fn,x,y,h)\n",
    "    return ys\n",
    "\n",
    "\n",
    "def caller4(my_method, fn, y_ini, x0, xT, h):\n",
    "    # x values uniformly sampled\n",
    "    xs = np.arange(x0, xT, h)\n",
    "    # number of points\n",
    "    N = len(xs)\n",
    "    # Initialize\n",
    "    y = np.asarray(y_ini)\n",
    "    # Initialize storage\n",
    "    ys = np.zeros((N, len(y_ini)))\n",
    "    # Loop over all xs\n",
    "    for i in range(N):\n",
    "        # store and ...\n",
    "        ys[i,:] = y\n",
    "        x = xs[i]\n",
    "        # ... update\n",
    "        y5, y = my_method(fn,x,y,h)\n",
    "    return ys"
   ]
  },
  {
   "cell_type": "code",
   "execution_count": 172,
   "id": "2bc707de-e29a-4107-945a-a4438123e0d5",
   "metadata": {},
   "outputs": [],
   "source": [
    "# Define the function\n",
    "def f(x,y): \n",
    "    return -1.0*np.asarray(y)\n",
    "\n",
    "# Initialize the parameters\n",
    "max_iter = 500\n",
    "abstol = 1.0e-6\n",
    "reltol = 1.0e-6\n",
    "y_ini = [1.0]\n",
    "x0 = 0.0\n",
    "xT = 10.0\n",
    "h = 0.2\n",
    "xs = np.arange(x0, xT, h)\n",
    "\n",
    "# Caller functions provide the solutions\n",
    "yserk5 = caller5(erk54, f, y_ini, x0, xT, h)\n",
    "yserk4 = caller4(erk54, f, y_ini, x0, xT, h)"
   ]
  },
  {
   "cell_type": "markdown",
   "id": "4ad70628-5c27-44d9-a30a-3fe57a72c9e3",
   "metadata": {},
   "source": [
    "### plot solutions and errors"
   ]
  },
  {
   "cell_type": "code",
   "execution_count": 173,
   "id": "48a7b0f7-077c-4a25-86f6-9ec2258d0814",
   "metadata": {},
   "outputs": [
    {
     "data": {
      "text/plain": [
       "<matplotlib.legend.Legend at 0x7fa8cb231d30>"
      ]
     },
     "execution_count": 173,
     "metadata": {},
     "output_type": "execute_result"
    },
    {
     "data": {
      "image/png": "[encoded data removed]",
      "text/plain": [
       "<Figure size 640x480 with 2 Axes>"
      ]
     },
     "metadata": {},
     "output_type": "display_data"
    }
   ],
   "source": [
    "plt.subplot(2,1,1)\n",
    "plt.plot(xfine, yfine, 'k-',linewidth=0.5,label='Exact')\n",
    "plt.plot(xs, yserk4,'bo',markersize=2,label='ERK4')\n",
    "plt.plot(xs, yserk5,'ro',markersize=2,label='ERK5')\n",
    "plt.legend()\n",
    "\n",
    "yerror4 = [yserk4[i][0] - yexact[i] for i in range(len(yexact))]\n",
    "yerror5 = [yserk5[i][0] - yexact[i] for i in range(len(yexact))]\n",
    "plt.subplot(2,1,2)\n",
    "plt.plot(xs, yerror,'g.',markersize=2,label='Regular RK4')\n",
    "plt.plot(xs, yerror4,'b.',markersize=2,label='ERK4')\n",
    "plt.plot(xs, yerror5,'r.',markersize=2,label='ERK5')\n",
    "plt.legend()"
   ]
  },
  {
   "cell_type": "markdown",
   "id": "7b7050d4-5a19-43df-b92e-c3680506093a",
   "metadata": {},
   "source": [
    "# **Predictor-Corrector Method for RK45**\n",
    "\n",
    "The **Runge-Kutta-Fehlberg (RK45)** method is an **adaptive step-size** technique used for solving ordinary differential equations (ODEs). It employs a **predictor-corrector** approach using **two different Runge-Kutta formulas**—one of **4th-order** (predictor) and one of **5th-order** (corrector)—to estimate the error and adjust the step size dynamically.\n",
    "\n",
    "---\n",
    "\n",
    "## **Step-by-Step Description**\n",
    "\n",
    "### **1. Predictor Step (4th-Order RK)**\n",
    "We first compute an approximation $ y_{n+1}^{(4)} $ using the **4th-order Runge-Kutta** formula:\n",
    "\n",
    "$$\n",
    "y_{n+1}^{(4)} = y_n + h \\sum_{i=1}^{6} b_i^{(4)} k_i\n",
    "$$\n",
    "\n",
    "where the intermediate function evaluations $ k_i $ are given by:\n",
    "\n",
    "$$\n",
    "k_i = f \\left( t_n + c_i h, y_n + h \\sum_{j=1}^{i-1} a_{ij} k_j \\right)\n",
    "$$\n",
    "\n",
    "for $ i = 1, 2, \\dots, 6 $.\n",
    "\n",
    "### **2. Corrector Step (5th-Order RK)**\n",
    "Next, we compute a more accurate approximation $ y_{n+1}^{(5)} $ using the **5th-order Runge-Kutta** formula:\n",
    "\n",
    "$$\n",
    "y_{n+1}^{(5)} = y_n + h \\sum_{i=1}^{6} b_i^{(5)} k_i\n",
    "$$\n",
    "\n",
    "where the same $ k_i $ values are reused.\n",
    "\n",
    "### **3. Error Estimation**\n",
    "The local error estimate is obtained as the difference between the two approximations:\n",
    "\n",
    "$$\n",
    "E = y_{n+1}^{(5)} - y_{n+1}^{(4)}\n",
    "$$\n",
    "\n",
    "Since the 5th-order solution is more accurate, the error gives a measure of how much the 4th-order solution deviates.\n",
    "\n",
    "### **4. Step Size Adjustment**\n",
    "The step size $ h $ is adjusted based on the error $ E $:\n",
    "\n",
    "$$\n",
    "h_{\\text{new}} = h_{\\text{old}} \\times \\left( \\frac{\\epsilon}{|E|} \\right)^{\\frac{1}{5}}\n",
    "$$\n",
    "\n",
    "where $ \\epsilon $ is the desired tolerance. If the error is too large, $ h $ is reduced; if it's small, $ h $ is increased to improve efficiency.\n"
   ]
  },
  {
   "cell_type": "code",
   "execution_count": 174,
   "id": "4cdf856e-d6e5-4c1d-b135-72afacd9d47b",
   "metadata": {},
   "outputs": [],
   "source": [
    "# Predictor-Corrector\n",
    "# Embedded Runge-Kutta formulas\n",
    "def erk54h(f, x, y, h, k7bh):\n",
    "    # Implement FSAL (first same as last)\n",
    "    # The first\n",
    "    # k1 = k7bh, unless k1 is zero (initially)\n",
    "    if sum(k7bh)==0: \n",
    "        k1 = h*f(x, y)\n",
    "    else:\n",
    "        k1 = k7bh*h\n",
    "\n",
    "    # Implement rest of the Butcher table\n",
    "    k2 = h*f(x + a2*h, y + b21*k1)\n",
    "    k3 = h*f(x + a3*h, y + b31*k1 + b32*k2)\n",
    "    k4 = h*f(x + a4*h, y + b41*k1 + b42*k2 + b43*k3)\n",
    "    k5 = h*f(x + a5*h, y + b51*k1 + b52*k2 + b53*k3 + b54*k4)\n",
    "    k6 = h*f(x + a6*h, y + b61*k1 + b62*k2 + b63*k3 + b64*k4 + b65*k5)\n",
    "\n",
    "    # get y fifth-order correct\n",
    "    y5 = y + c1*k1 + c2*k2 + c3*k3 + c4*k4 + c5*k5 + c6*k6 # c7 = 0     \n",
    "    \n",
    "    # FSAL -> the last\n",
    "    k7bh = f(x + a7*h, y5)\n",
    "\n",
    "    #@printf(\"%.6f %.6f %.6f %.6f\\n\",x, y[1], y5[1], k7bh[1])\n",
    "\n",
    "    # get y fourth-order correct\n",
    "    y4 = y + c1s*k1 + c2s*k2 + c3s*k3 + c4s*k4 + c5s*k5 + c6s*k6 + c7s*k7bh*h\n",
    "\n",
    "    # return y, error, k7bh\n",
    "    err = abs(y5 - y4)\n",
    "    return y5, err, k7bh\n",
    "\n",
    "def caller54(fn, y_ini, x0, xT, h0, max_iter, abstol, reltol):\n",
    "    y = np.asarray(y_ini); h = h0;\n",
    "    ys = np.zeros((max_iter, len(y_ini)))\n",
    "    xs = np.zeros((max_iter, 1))\n",
    "    xs[0] = x0; ys[0,:] = y\n",
    "    x = x0; i = 0; k = 1\n",
    "    k7bh = np.zeros(len(y_ini))\n",
    "    while x<=xT and i<max_iter:\n",
    "        \n",
    "        # calculate the tolerance\n",
    "        if i == 0: \n",
    "            tol = abstol + reltol*np.linalg.norm(ys[i,:])\n",
    "        else:\n",
    "            tol = abstol + reltol*np.max([np.linalg.norm(ys[i,:]), np.linalg.norm(ys[i-1,:])])\n",
    "        \n",
    "        # get the next y and the error\n",
    "        y, err, k7bh = erk54h(fn,xs[i],ys[i,:],h, k7bh)\n",
    "        \n",
    "        # get max error and the scale factor\n",
    "        merr = np.max(err)\n",
    "        #scale_factor = (tol/merr)^0.2\n",
    "        \n",
    "        # for debugging\n",
    "        #print(\"%2d %.4f %.6f %.6f %g\"%(i,xs[i],ys[i],h,merr))\n",
    "        \n",
    "        if merr == 0.0: \n",
    "            merr = tol/100\n",
    "\n",
    "        # If the step is valid (less error than tol)\n",
    "        # then we proceed\n",
    "        if merr<tol:   \n",
    "            x += h\n",
    "            i += 1\n",
    "            xs[i] = x\n",
    "            ys[i,:] = y\n",
    "            #k7 = k7t\n",
    "            #print(\"%2d %.4f %.6f %.6f\"%(i,xs[i],ys[i],k7[1]))\n",
    "        \n",
    "        # anyway we update h every time\n",
    "        h = 0.9*h*(tol/merr)**0.2\n",
    "    \n",
    "    # if the maximum number of steps exceeded\n",
    "    if i>=max_iter:\n",
    "        println(i,\" Increase max_iter.\")\n",
    "        return None\n",
    "    \n",
    "    # return the usable portion of the array\n",
    "    return xs[1:i-1], ys[1:i-1,:]\n"
   ]
  },
  {
   "cell_type": "code",
   "execution_count": 175,
   "id": "70bd1f7a-0eb6-4bc8-9424-ff05380445a6",
   "metadata": {},
   "outputs": [],
   "source": [
    "# Initialize parameters\n",
    "max_iter = 2000\n",
    "abstol = 1.0e-6\n",
    "reltol = 1.0e-8\n",
    "y_ini = [1.0]\n",
    "x0 = 0.0\n",
    "xT = 10.0\n",
    "h0 = 0.2\n",
    "\n",
    "# Final call \n",
    "xs54, yserk54 = caller54(f, y_ini, x0, xT, h0, max_iter, abstol, reltol)\n"
   ]
  },
  {
   "cell_type": "code",
   "execution_count": 176,
   "id": "935d684b-ae3b-4807-a586-27bb5cf6c83f",
   "metadata": {},
   "outputs": [
    {
     "data": {
      "text/plain": [
       "[<matplotlib.lines.Line2D at 0x7fa8cb2ce330>]"
      ]
     },
     "execution_count": 176,
     "metadata": {},
     "output_type": "execute_result"
    },
    {
     "data": {
      "image/png": "[encoded data removed]",
      "text/plain": [
       "<Figure size 640x480 with 2 Axes>"
      ]
     },
     "metadata": {},
     "output_type": "display_data"
    }
   ],
   "source": [
    "plt.subplot(1,2,1)\n",
    "plt.plot(xfine, yfine, 'k-',linewidth=0.5)\n",
    "plt.plot(xs54, yserk54, 'b.', markersize=2)\n",
    "\n",
    "yexact = np.exp(-xs54)\n",
    "error54 = [yserk54[i][0] - yexact[i] for i in range(len(xs54))]\n",
    "\n",
    "plt.subplot(1,2,2)\n",
    "plt.plot(xs54, error54,'g.',markersize=2)"
   ]
  },
  {
   "cell_type": "code",
   "execution_count": 177,
   "id": "a32aca7a-46e3-4c4d-bd1e-2e6e85ea2c29",
   "metadata": {},
   "outputs": [
    {
     "data": {
      "image/png": "[encoded data removed]",
      "text/plain": [
       "<Figure size 640x480 with 1 Axes>"
      ]
     },
     "metadata": {},
     "output_type": "display_data"
    }
   ],
   "source": [
    "xs54l = [xs54[i][0] for i in range(len(xs54))]\n",
    "plt.plot(np.diff(xs54l),'bo',markersize=2)\n",
    "plt.xlabel('Serial number')\n",
    "plt.ylabel('h values')\n",
    "plt.xticks([i for i in range(20)])\n",
    "plt.grid()"
   ]
  },
  {
   "cell_type": "code",
   "execution_count": null,
   "id": "307a7515-3824-4312-bdc7-167838bfb577",
   "metadata": {},
   "outputs": [],
   "source": []
  }
 ],
 "metadata": {
  "kernelspec": {
   "display_name": "Python 3 (ipykernel)",
   "language": "python",
   "name": "python3"
  },
  "language_info": {
   "codemirror_mode": {
    "name": "ipython",
    "version": 3
   },
   "file_extension": ".py",
   "mimetype": "text/x-python",
   "name": "python",
   "nbconvert_exporter": "python",
   "pygments_lexer": "ipython3",
   "version": "3.10.12"
  }
 },
 "nbformat": 4,
 "nbformat_minor": 5
}
